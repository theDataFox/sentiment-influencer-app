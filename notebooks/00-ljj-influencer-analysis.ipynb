{
 "cells": [
  {
   "cell_type": "code",
   "execution_count": 66,
   "metadata": {},
   "outputs": [],
   "source": [
    "#!/usr/bin/env python\n",
    "\n",
    "# convert gml to json and add community grouping\n",
    "\n",
    "# TODO: fix relative filepaths for file input and export\n",
    "\n",
    "# import libraries\n",
    "# import argparse\n",
    "import json\n",
    "import networkx as nx\n",
    "from networkx.readwrite import json_graph\n",
    "from modularity_maximization import partition\n",
    "from modularity_maximization.utils import get_modularity\n",
    "\n",
    "\n",
    "def gmltojson(gmlfile, jsonfile):\n",
    "    \"\"\"\n",
    "    Converts GML file to json while adding communities/modularity groups\n",
    "    using modularity_maximization. JSON output is usable with D3 force layout.\n",
    "    Usage:\n",
    "    python convert.py -i mygraph.graphml -o outfile.json\n",
    "    Return data in node-link format that is suitable for JSON serialization and use in Javascript documents.\n",
    "    \"\"\"\n",
    "\n",
    "    print('Reading file:', gmlfile)\n",
    "    di_graph = nx.read_gml('../data/raw/' + gmlfile)\n",
    "    comm_dict = partition(di_graph)\n",
    "    print('Calculating communities...')\n",
    "    for comm in set(comm_dict.values()):\n",
    "        print(\"Community %d\" % comm)\n",
    "        print(', '.join([node for node in comm_dict if comm_dict[node] == comm]))\n",
    "\n",
    "    print('Modularity of such partition for network is %.3f' % \\\n",
    "          get_modularity(di_graph, comm_dict))\n",
    "\n",
    "    # adds partition/community number as attribute named 'Modularity Class'\n",
    "    print('Assigning Communities...')\n",
    "    for n, d in di_graph.nodes(data=True):\n",
    "        d['Modularity Class'] = comm_dict[n]\n",
    "        \n",
    "    # set positions of nodes\n",
    "    pos = nx.spring_layout(di_graph)\n",
    "\n",
    "    for node,(x,y) in pos.items():\n",
    "        di_graph.node[node]['x'] = float(x)\n",
    "        di_graph.node[node]['y'] = float(y)\n",
    "\n",
    "    # TODO: create betweeness centrality and degrees, degree centrality, in-degree etc\n",
    "    bb = nx.betweenness_centrality(di_graph)\n",
    "    nx.set_node_attributes(di_graph, name='betweeness cent.', values=bb)\n",
    "\n",
    "    # create a dictionary in a node-link format that is suitable for JSON serialization\n",
    "    with open('../data/processed/' + jsonfile + '.json', 'w') as outfile1:\n",
    "        outfile1.write(json.dumps(json_graph.node_link_data(G=di_graph)))\n",
    "    print('Complete!')\n",
    "    \n",
    "    # see: https://cambridge-intelligence.com/keylines-faqs-social-network-analysis/\n",
    "\n"
   ]
  },
  {
   "cell_type": "code",
   "execution_count": 67,
   "metadata": {},
   "outputs": [
    {
     "name": "stdout",
     "output_type": "stream",
     "text": [
      "Reading file TheDataFox.gml\n",
      "Calculating communities...\n",
      "Community 5\n",
      "NVIDIAGeForce, OmnicLab, AMDGaming, TESLegends, OverwatchEU, engadget, msiUSA, OWCentral, techradar, PlayDuelyst, ASUS, BlizzardCSEU_EN, overwatchleague, OverwatchGG, PCPartPicker, pcgamer, PlayOverwatch, nvidia, NVIDIAGeForceUK, Twitch, PocketPixl, PcCentric, TEAMEVGA, EGX_Esports, Radeon, PlayHearthstone, YourOverwatchYT, GIGABYTEUSA, CORSAIR, tomshardware, ClanTDK, NETDUMA\n",
      "Community 7\n",
      "mangacom, ViralRajyaguru, MangaUK, metline, DB_Legends, FUNimation, SonSonComics, savingoceans, GoodSmile_US, animetoday, SonSonPhotos, VIZMedia, Crunchyroll\n",
      "Community 8\n",
      "Bulbagarden, SixPrizes, SerebiiNet, PokemonUKGo, Junichi_Masuda, pokebeach_wpm, NintendoUK, TeamMysticPGO, Bulbanews, GamingHistorian, OmniPoke, PokemonGoNews, BulbaNewsNOW, Bulbapedia, enjoifriend, RareCandyTCG, NinEverything, PokemonNewsUK, Pokemon_cojp, theSuperRodcast, nintendolife, GoTeamMystic, PokemonGoApp, capsulecorpccg, NintendoAmerica, Pokemon, ThePokemonEvos, GeekStoredotcom, ZeldaUniverse, NianticLabs, ZeldaWiki, PokemonLetsGoNS, thewossy, NintendoSwitchC, NintendoEurope\n",
      "Community 11\n",
      "EAStarWars, EA, VG247, asmrplays, PlayWarframe, WeArePlayground, bioware, OverwatchSarah, Steep_Game, DeeJ_BNG, E3, CriterionGames, OPM_UK, NetherRealm, steam_games, TFLegends, N4G, ElderScrolls, Titanfallgame, BethesdaStudios, Respawn, PlayStationUK, ForzaMotorsport, the100_io, HorizonForza, ScufGaming, Kotaku, Sony, TitanfallBlog, IGN, GaslampASMR, GameTrailers, TacticalGaming, MimimiProd, PlayStationEU, VinceZampella, thislukesmith, IGNUK, Ubisoft, AskPlayStation, GameSpot, pushsquare, TheSixthAxis, daedalic, Scalebound, assassinscreed, UbisoftUK, Bungie, SkillUpYT, jonshiring, DestinyTheGame, theASMRnerd, Polygon, PlayStation, TrialsReport, engadgetgaming\n",
      "Community 12\n",
      "BatmanNewsCom, pokecodeshop, GSUniverse, BatmanvSuperman, reedcomics, SuperHeroHype, SuperheroNewsCB, SuperHeroStuff, DCComics\n",
      "Community 13\n",
      "trygest, wandi1234, ASRockInfo, MysticPGO\n",
      "Community 15\n",
      "ESLHearthstone, HSTopDecks, Hearthhead, hsdecktracker, HSReplayNet\n",
      "Community 16\n",
      "pycoders, rstudio, googledrive, awscloud, gmail, udacity, GMapsPlatform, RegexTip, googledevs, kdnuggets, R_Programming, TwitterDev, RLangTip, Android, inside_R, anacondainc, Rbloggers, Codecademy, kaggle, ThePSF, TIBCO, googlemaps, UnixToolTip, KDnuggetsJobs, strataconf, DataScienceCtrl, Twitter, jdevoo, Google, TwitterAPI, TwitterEng, rstudiotips, analyticbridge, SciPyTip, SocialWebMining, codeorg, hadoop, github, ds_ldn, howtogeek, googlechrome\n",
      "Community 17\n",
      "amiamihobbynews\n",
      "Community 18\n",
      "edhrec, Team_Axion, StarCityGames, delverslab, magicprotour, TolarianCollege, AxionNow, ManaleakCom, GatheringMagic, scryfall, TOTALmtg, MTGatTCGplayer, cardhoarder, CardmarketMagic, tappedout, wizards_magic, deckstats, MagicOnline, MTGGoldfish\n",
      "Calculating modularity for directed graph\n",
      "Modularity of such partition for network is 0.492\n",
      "Assigning Communities...\n",
      "Complete!\n"
     ]
    }
   ],
   "source": [
    "gmltojson('TheDataFox.gml', 'TheDataFox')"
   ]
  }
 ],
 "metadata": {
  "kernelspec": {
   "display_name": "Python 3.6",
   "language": "python",
   "name": "python3.6"
  },
  "language_info": {
   "codemirror_mode": {
    "name": "ipython",
    "version": 3
   },
   "file_extension": ".py",
   "mimetype": "text/x-python",
   "name": "python",
   "nbconvert_exporter": "python",
   "pygments_lexer": "ipython3",
   "version": "3.6.0"
  }
 },
 "nbformat": 4,
 "nbformat_minor": 2
}
