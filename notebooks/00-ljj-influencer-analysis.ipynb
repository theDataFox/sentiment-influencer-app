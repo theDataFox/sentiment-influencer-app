{
 "cells": [
  {
   "cell_type": "markdown",
   "metadata": {},
   "source": [
    "# Networkx Analysis of Yonda Competitors"
   ]
  },
  {
   "cell_type": "code",
   "execution_count": 1,
   "metadata": {},
   "outputs": [],
   "source": [
    "#!/usr/bin/env python\n",
    "\n",
    "# import libraries\n",
    "import pandas as pd\n",
    "import networkx as nx\n",
    "from random import randint as rand\n",
    "import matplotlib.pyplot as plt\n",
    "import seaborn as sns\n",
    "%config InlineBackend.figure_format = 'retina'\n",
    "%matplotlib inline\n",
    "data_path_1 = '../data/processed/TandemMoney.gml'\n",
    "data_path_2 = '../data/processed/BuyWithBread.gml'\n",
    "data_path_3 = '../data/processed/icount_money.gml'"
   ]
  },
  {
   "cell_type": "code",
   "execution_count": 15,
   "metadata": {},
   "outputs": [],
   "source": [
    "# read in gml\n",
    "graph_1 = nx.read_gml(data_path_1)\n",
    "graph_2 = nx.read_gml(data_path_2)\n",
    "graph_3 = nx.read_gml(data_path_3)"
   ]
  },
  {
   "cell_type": "code",
   "execution_count": 13,
   "metadata": {},
   "outputs": [],
   "source": [
    "def network_stats(graph):\n",
    "    \"\"\"\n",
    "    Network stats for graph\n",
    "    \"\"\"\n",
    "    # betweeness centrality\n",
    "    bc = nx.betweenness_centrality(graph)\n",
    "    print('Betweeness Crentrality: \\n')\n",
    "    print(sorted(bc, key=bc.get, reverse=True)[:20])\n",
    "    nx.set_node_attributes(graph, name='bc', values=bc)\n",
    "\n",
    "    # degree centrality\n",
    "    dc = nx.degree_centrality(graph)\n",
    "    print('Degree Crentrality: \\n')\n",
    "    print(sorted(dc, key=dc.get, reverse=True)[:20])\n",
    "    nx.set_node_attributes(graph, name='dc', values=dc)\n",
    "\n",
    "    # in degree centrality\n",
    "    idc = nx.in_degree_centrality(graph)\n",
    "    print('In Degree Crentrality: \\n')\n",
    "    print(sorted(idc, key=idc.get, reverse=True)[:20])\n",
    "    nx.set_node_attributes(graph, name='idc', values=idc)\n",
    "\n",
    "    # out degree centrality\n",
    "    odc = nx.out_degree_centrality(graph)\n",
    "    print('Out Degree Crentrality: \\n')\n",
    "    print(sorted(odc, key=odc.get, reverse=True)[:20])\n",
    "    nx.set_node_attributes(graph, name='odc', values=odc)\n",
    "\n",
    "    # page rank\n",
    "    pr = nx.pagerank(graph)\n",
    "    print('Page Rank: \\n')\n",
    "    print(sorted(pr, key=pr.get, reverse=True)[:20])\n",
    "    nx.set_node_attributes(graph, name='pr', values=pr)\n",
    "    \n",
    "    # eigen vector\n",
    "    edc = nx.eigenvector_centrality(graph)\n",
    "    print('Eigen Crentrality: \\n')\n",
    "    print(sorted(edc, key=edc.get, reverse=True)[:20])\n",
    "    nx.set_node_attributes(graph, name='edc', values=edc)\n",
    "    \n",
    "    return graph"
   ]
  },
  {
   "cell_type": "code",
   "execution_count": 14,
   "metadata": {},
   "outputs": [
    {
     "name": "stdout",
     "output_type": "stream",
     "text": [
      "Betweeness Crentrality: \n",
      "\n",
      "['StarlingBank', 'FinTechInsiders', 'monzo', 'atom_bank', 'imaginecurve', 'JasonBates', 'railsbank', 'SmartMoneyPPL', 'StarlingDev', 'banknxt', 'thefintechtimes', 'ThinkRiseLDN', 'AltFiNews', 'julian_sawyer', 't_blom', '_AlexSherwood', 'FinanceConrad', 'StGilesResident', 'ScalableCapital', 'UKTNofficial']\n",
      "Degree Crentrality: \n",
      "\n",
      "['monzo', 'StarlingBank', 'atom_bank', 't_blom', 'FinTechInsiders', 'JasonBates', 'Finovate', 'FTCInnovate', 'sbcFinTech', 'imaginecurve', 'FinTechLabLDN', 'UKTNofficial', 'annairrera', 'nekliolios', 'banknxt', 'railsbank', 'this_is_bud', 'matteorizzi', 'thenutmegteam', 'Seedrs']\n",
      "In Degree Crentrality: \n",
      "\n",
      "['monzo', 'StarlingBank', 'atom_bank', 't_blom', 'JasonBates', 'FinTechInsiders', 'Finovate', 'FTCInnovate', 'sbcFinTech', 'UKTNofficial', 'annairrera', 'FinTechLabLDN', 'imaginecurve', 'nekliolios', 'this_is_bud', 'thenutmegteam', 'matteorizzi', 'Crowdcube', 'Seedrs', 'pymnts']\n",
      "Out Degree Crentrality: \n",
      "\n",
      "['FinTechInsiders', 'railsbank', 'StGilesResident', 'RoisinLevine', 'PopescuAnda1', 'FinanceConrad', 'julian_sawyer', 'thefintechtimes', 'banknxt', 'SmartMoneyPPL', 'SpenceLiam', '_AlexSherwood', 'FidorSolutions', 'StarlingDev', 'tonyvail', 'Ypsilon_Zett', 'mcksco', 'FTPartners', 'MespoUK', 'AsaBentley']\n",
      "Page Rank: \n",
      "\n",
      "['monzo', 'StarlingBank', 'atom_bank', 't_blom', 'JasonBates', 'FinTechInsiders', 'Finovate', 'rickykno', 'sohear', 'UKTNofficial', 'annairrera', 'thenutmegteam', 'imaginecurve', 'sbcFinTech', 'matteorizzi', 'nekliolios', 'robmoff', 'this_is_bud', 'Seedrs', 'FTCInnovate']\n",
      "Eigen Crentrality: \n",
      "\n",
      "['monzo', 'StarlingBank', 'atom_bank', 't_blom', 'FinTechInsiders', 'JasonBates', 'annairrera', 'Finovate', 'nekliolios', 'sbcFinTech', 'matteorizzi', 'banknxt', 'FinTechLabLDN', 'FTCInnovate', 'TanyaBankTech', 'SophieGuibaud', 'this_is_bud', 'railsbank', 'LarsMarkull', 'naszub']\n",
      "Betweeness Crentrality: \n",
      "\n",
      "['MoneySavingExp', 'Contact_People', 'MoneyAdviceOn', 'SmartMoneyPPL', 'PayPoint', 'loanpackager', 'Visaretailnews', 'smiledesignpt', 'AlbanyCleaning', 'PensionDay', 'IPaccess_', 'LondonTravelBud', 'questcsuk', 'BuyPurple', 'Textbooktravel', 'JourneyEra', 'MakeItCheaper', 'Hixsons', 'FindaUKBusiness', 'PeachyLoans']\n",
      "Degree Crentrality: \n",
      "\n",
      "['MoneySavingExp', 'Visaretailnews', 'TNSPay', 'smiledesignpt', 'Contact_People', 'AlbanyCleaning', 'PayPoint', 'SmartMoneyPPL', 'CFLawnGarden', 'MoneyAdviceOn', 'emvpos', '_paymentologist', 'questcsuk', 'CyberSourceUK', 'babushka99', 'Fraudwrangler', 'LaffertyEvents', 'Sail_inGreece', 'prepaidpress', 'GlobalRiskTech']\n",
      "In Degree Crentrality: \n",
      "\n",
      "['MoneySavingExp', 'PayPoint', 'Visaretailnews', 'TNSPay', 'smiledesignpt', 'AlbanyCleaning', 'SmartMoneyPPL', 'MoneyAdviceOn', 'Contact_People', 'WeHeartLiving', 'CFLawnGarden', 'CyberSourceUK', 'prepaidpress', 'flypayuk', 'PeachyLoans', 'contactless', 'babushka99', 'GlobalRiskTech', 'banknxt', 'questcsuk']\n",
      "Out Degree Crentrality: \n",
      "\n",
      "['Visaretailnews', '_paymentologist', 'smiledesignpt', 'TNSPay', 'Contact_People', 'emvpos', 'AlbanyCleaning', 'SmartMoneyPPL', 'Fraudwrangler', 'CFLawnGarden', 'laviniapop17', 'questcsuk', 'MacMabidilala', 'IT_musings', 'TomPillingPAYS', 'LaffertyEvents', 'Sail_inGreece', 'HeatherFGray', 'loanpackager', 'CommdelUmang']\n",
      "Page Rank: \n",
      "\n",
      "['MoneySavingExp', 'PayPoint', 'WeHeartLiving', 'smiledesignpt', 'Contact_People', 'AlbanyCleaning', 'MoneyAdviceOn', 'PensionDay', 'Visaretailnews', 'CABmoneynews', 'SmartMoneyPPL', 'CFLawnGarden', 'flypayuk', 'Textbooktravel', 'TNSPay', 'MakeItCheaper', 'questcsuk', 'CodesDevil', 'prepaidpress', 'BanK_Expo']\n",
      "Eigen Crentrality: \n",
      "\n",
      "['Visaretailnews', 'TNSPay', 'CyberSourceUK', 'contactless', 'EMoneyAssoc', 'HeatherFGray', 'GlobalRiskTech', 'PayTechPros', 'babushka99', 'krthiru', 'TomPillingPAYS', 'emvpos', 'LaffertyEvents', 'rebecca_pinner', 'teampayments', 'payzonesystems', 'prepaidpress', 'Attrahunt_MS', 'bgilpatrick', 'FirstAnnapolis']\n",
      "Betweeness Crentrality: \n",
      "\n",
      "['BagsUp', 'lovemoney_com', 'SamuelMondo', 'StepChange', 'Andrew_F_Smith', 'Prepaid365', 'MALG_UK', 'BuyWithBread', 'fairerfinance', 'getoutofcredit', 'nwpearson', 'MastercardNews', 'RFXTravelMoney', 'thinkin_thrifty', 'TodayLoan', 'Zerocredit_UK', 'ClearDebt', 'loquax', 'TonyCraddock', 'MoneyfactsPress']\n",
      "Degree Crentrality: \n",
      "\n",
      "['SamuelMondo', 'ClearDebt', 'StepChange', 'Andrew_F_Smith', 'nwpearson', 'Zerocredit_UK', 'DRF_UK', 'getoutofcredit', 'BagsUp', 'MALG_UK', 'MastercardNews', 'Prepaid365', 'louyates21', 'MoneyfactsPress', 'DMPForum', 'IVA', 'Debt_News', 'TonyCraddock', 'Paybefore', 'MoneyPressureUK']\n",
      "In Degree Crentrality: \n",
      "\n",
      "['ClearDebt', 'SamuelMondo', 'Andrew_F_Smith', 'StepChange', 'BagsUp', 'MastercardNews', 'DRF_UK', 'Prepaid365', 'IVA', 'Zerocredit_UK', 'Debt_News', 'bitbriefs', 'nwpearson', 'MoneyfactsPress', 'Paybefore', 'lovemoney_com', 'MALG_UK', 'FinanceJames', 'prepaidpress', 'Debtmastersize5']\n",
      "Out Degree Crentrality: \n",
      "\n",
      "['getoutofcredit', 'IVAhhelp', 'ForestKingInsol', 'nwpearson', 'SamuelMondo', 'MALG_UK', 'MoneyPressureUK', 'GetOutofDebt007', 'ClearDebt', 'louyates21', 'StepChange', 'CarringtonDean', 'releasemoneygrp', 'Zerocredit_UK', 'DMPForum', 'Andrew_F_Smith', 'Gbbfl', 'uk_debt', 'Your_PPIexpert', 'LauraFitz79']\n",
      "Page Rank: \n",
      "\n",
      "['BagsUp', 'CharissaCowart', 'bitbriefs', 'Andrew_F_Smith', 'StepChange', 'SamuelMondo', 'lovemoney_com', 'ClearDebt', 'Prepaid365', 'MastercardNews', 'firstdirect', 'FinanceJames', 'IVA', 'turismo_por', 'nwpearson', 'DRF_UK', 'MoneyfactsPress', 'Debt_News', 'MALG_UK', 'Paybefore']\n",
      "Eigen Crentrality: \n",
      "\n",
      "['ClearDebt', 'Andrew_F_Smith', 'StepChange', 'DRF_UK', 'nwpearson', 'Zerocredit_UK', 'MALG_UK', 'IVA', 'MoneyfactsPress', 'Debt_News', 'SamuelMondo', 'Debtmastersize5', 'FinanceJames', 'Bright_Oak', 'fairerfinance', 'lovemoney_com', 'IVAAdviceForum', 'releasemoneygrp', 'philipkingicm', 'louyates21']\n"
     ]
    }
   ],
   "source": [
    "list_1 = network_stats(graph_1)\n",
    "list_2 = network_stats(graph_2)\n",
    "list_3 = network_stats(graph_3)"
   ]
  },
  {
   "cell_type": "code",
   "execution_count": 6,
   "metadata": {},
   "outputs": [
    {
     "data": {
      "text/plain": [
       "['JTJHenson',\n",
       " 'CommdelUmang',\n",
       " 'MALG_UK',\n",
       " 'srsandson',\n",
       " 'HeatherFGray',\n",
       " 'laviniapop17',\n",
       " 'Rich_Cashplus']"
      ]
     },
     "execution_count": 6,
     "metadata": {},
     "output_type": "execute_result"
    }
   ],
   "source": [
    "list(set(list_1).intersection(list_2).intersection(list_3))"
   ]
  },
  {
   "cell_type": "code",
   "execution_count": 17,
   "metadata": {},
   "outputs": [],
   "source": [
    "# key actor analysis\n",
    "# betweeness vs page rank \n",
    "\n",
    "data_1 = pd.DataFrame.from_dict(dict(graph_1.nodes(data=True)), orient='index')\n",
    "data_2 = pd.DataFrame.from_dict(dict(graph_2.nodes(data=True)), orient='index')\n",
    "data_3 = pd.DataFrame.from_dict(dict(graph_3.nodes(data=True)), orient='index')"
   ]
  },
  {
   "cell_type": "code",
   "execution_count": 18,
   "metadata": {},
   "outputs": [
    {
     "data": {
      "text/html": [
       "<div>\n",
       "<style scoped>\n",
       "    .dataframe tbody tr th:only-of-type {\n",
       "        vertical-align: middle;\n",
       "    }\n",
       "\n",
       "    .dataframe tbody tr th {\n",
       "        vertical-align: top;\n",
       "    }\n",
       "\n",
       "    .dataframe thead th {\n",
       "        text-align: right;\n",
       "    }\n",
       "</style>\n",
       "<table border=\"1\" class=\"dataframe\">\n",
       "  <thead>\n",
       "    <tr style=\"text-align: right;\">\n",
       "      <th></th>\n",
       "      <th>user_id</th>\n",
       "      <th>file</th>\n",
       "      <th>type</th>\n",
       "      <th>statuses</th>\n",
       "      <th>friends</th>\n",
       "      <th>followers</th>\n",
       "      <th>listed</th>\n",
       "      <th>ffr</th>\n",
       "      <th>lfr</th>\n",
       "      <th>shape</th>\n",
       "    </tr>\n",
       "  </thead>\n",
       "  <tbody>\n",
       "    <tr>\n",
       "      <th>04bpaine</th>\n",
       "      <td>58233341</td>\n",
       "      <td>TandemMoney.dat</td>\n",
       "      <td>followers</td>\n",
       "      <td>1316</td>\n",
       "      <td>725</td>\n",
       "      <td>202</td>\n",
       "      <td>2</td>\n",
       "      <td>0.2786</td>\n",
       "      <td>0.0990</td>\n",
       "      <td>triangle-down</td>\n",
       "    </tr>\n",
       "    <tr>\n",
       "      <th>0_0Liberata</th>\n",
       "      <td>1735629547</td>\n",
       "      <td>TandemMoney.dat</td>\n",
       "      <td>followers</td>\n",
       "      <td>335</td>\n",
       "      <td>323</td>\n",
       "      <td>138</td>\n",
       "      <td>15</td>\n",
       "      <td>0.4272</td>\n",
       "      <td>1.0870</td>\n",
       "      <td>triangle-down</td>\n",
       "    </tr>\n",
       "    <tr>\n",
       "      <th>0_thavhakhulu</th>\n",
       "      <td>2949338073</td>\n",
       "      <td>TandemMoney.dat</td>\n",
       "      <td>followers</td>\n",
       "      <td>747</td>\n",
       "      <td>359</td>\n",
       "      <td>58</td>\n",
       "      <td>33</td>\n",
       "      <td>0.1616</td>\n",
       "      <td>5.6897</td>\n",
       "      <td>triangle-down</td>\n",
       "    </tr>\n",
       "    <tr>\n",
       "      <th>0marMX</th>\n",
       "      <td>755472259347689472</td>\n",
       "      <td>TandemMoney.dat</td>\n",
       "      <td>followers</td>\n",
       "      <td>412</td>\n",
       "      <td>775</td>\n",
       "      <td>111</td>\n",
       "      <td>29</td>\n",
       "      <td>0.1432</td>\n",
       "      <td>2.6126</td>\n",
       "      <td>triangle-down</td>\n",
       "    </tr>\n",
       "    <tr>\n",
       "      <th>0ursIsTh3FurY</th>\n",
       "      <td>1475838589</td>\n",
       "      <td>TandemMoney.dat</td>\n",
       "      <td>followers</td>\n",
       "      <td>1063</td>\n",
       "      <td>213</td>\n",
       "      <td>55</td>\n",
       "      <td>0</td>\n",
       "      <td>0.2582</td>\n",
       "      <td>0.0000</td>\n",
       "      <td>triangle-down</td>\n",
       "    </tr>\n",
       "  </tbody>\n",
       "</table>\n",
       "</div>"
      ],
      "text/plain": [
       "                          user_id             file       type  statuses  \\\n",
       "04bpaine                 58233341  TandemMoney.dat  followers      1316   \n",
       "0_0Liberata            1735629547  TandemMoney.dat  followers       335   \n",
       "0_thavhakhulu          2949338073  TandemMoney.dat  followers       747   \n",
       "0marMX         755472259347689472  TandemMoney.dat  followers       412   \n",
       "0ursIsTh3FurY          1475838589  TandemMoney.dat  followers      1063   \n",
       "\n",
       "               friends  followers  listed     ffr     lfr          shape  \n",
       "04bpaine           725        202       2  0.2786  0.0990  triangle-down  \n",
       "0_0Liberata        323        138      15  0.4272  1.0870  triangle-down  \n",
       "0_thavhakhulu      359         58      33  0.1616  5.6897  triangle-down  \n",
       "0marMX             775        111      29  0.1432  2.6126  triangle-down  \n",
       "0ursIsTh3FurY      213         55       0  0.2582  0.0000  triangle-down  "
      ]
     },
     "execution_count": 18,
     "metadata": {},
     "output_type": "execute_result"
    }
   ],
   "source": [
    "data_1.head()"
   ]
  },
  {
   "cell_type": "code",
   "execution_count": 19,
   "metadata": {},
   "outputs": [
    {
     "data": {
      "text/plain": [
       "(3457, 17)"
      ]
     },
     "execution_count": 19,
     "metadata": {},
     "output_type": "execute_result"
    }
   ],
   "source": [
    "data_2.shape"
   ]
  },
  {
   "cell_type": "code",
   "execution_count": 16,
   "metadata": {},
   "outputs": [],
   "source": [
    "data_2 = data_2[data_2['handle'] != 'MoneySavingExp']"
   ]
  },
  {
   "cell_type": "code",
   "execution_count": 50,
   "metadata": {},
   "outputs": [],
   "source": [
    "data_1 = data_1[data_1['handle'] != 'monzo']"
   ]
  },
  {
   "cell_type": "code",
   "execution_count": 45,
   "metadata": {},
   "outputs": [],
   "source": [
    "data_1 = data_1[data_1['handle'] != 'StarlingBank']\n",
    "data_1 = data_1[data_1['handle'] != 'atom_bank']"
   ]
  },
  {
   "cell_type": "code",
   "execution_count": 18,
   "metadata": {},
   "outputs": [
    {
     "data": {
      "text/plain": [
       "(3457, 17)"
      ]
     },
     "execution_count": 18,
     "metadata": {},
     "output_type": "execute_result"
    }
   ],
   "source": [
    "data_2.shape"
   ]
  },
  {
   "cell_type": "code",
   "execution_count": 51,
   "metadata": {},
   "outputs": [],
   "source": [
    "data_1['handle'] = data_1.index\n",
    "data_2['handle'] = data_2.index\n",
    "data_3['handle'] = data_3.index"
   ]
  },
  {
   "cell_type": "code",
   "execution_count": 52,
   "metadata": {},
   "outputs": [],
   "source": [
    "data_1[['statuses','friends', 'followers', 'listed', 'ffr', 'lfr']] = data_1[['statuses','friends', 'followers', 'listed', 'ffr', 'lfr']].apply(pd.to_numeric)\n",
    "data_2[['statuses','friends', 'followers', 'listed', 'ffr', 'lfr']] = data_2[['statuses','friends', 'followers', 'listed', 'ffr', 'lfr']].apply(pd.to_numeric)\n",
    "data_3[['statuses','friends', 'followers', 'listed', 'ffr', 'lfr']] = data_3[['statuses','friends', 'followers', 'listed', 'ffr', 'lfr']].apply(pd.to_numeric)"
   ]
  },
  {
   "cell_type": "code",
   "execution_count": 60,
   "metadata": {},
   "outputs": [],
   "source": [
    "# pr vs betweeness\n",
    "def plot_actor_analysis(data):\n",
    "    sns.set(style=\"whitegrid\")\n",
    "    f, ax = plt.subplots(figsize=(12, 12))\n",
    "#     sns.despine(f, left=True, bottom=True)\n",
    "    sns.scatterplot(data=data,\n",
    "                    x=\"bc\", y=\"pr\",\n",
    "                    size=\"followers\",\n",
    "                    palette=\"ch:r=-.2,d=.3_r\",\n",
    "#                     sizes=(1, 200), linewidth=0,\n",
    "                    ax=ax, legend=False)\n",
    "    plt.ylim(0, 0.15)\n",
    "    plt.xlim(0, 0.1)\n",
    "    plt.title('Key Actor Analysis', fontsize=20)\n",
    "    # Set x-axis label\n",
    "    plt.xlabel('Betweeness Centrality')\n",
    "    # Set y-axis label\n",
    "    plt.ylabel('Pagerank')\n",
    "\n",
    "    def label_point(x, y, val, ax):\n",
    "            a = pd.concat({'x': x, 'y': y, 'val': val}, axis=1)\n",
    "            for i, point in a.iterrows():\n",
    "                ax.text(point['x']+.0002, point['y'], str(point['val']))\n",
    "    label_point(data.bc, data.pr, data.handle, plt.gca())"
   ]
  },
  {
   "cell_type": "code",
   "execution_count": 61,
   "metadata": {},
   "outputs": [
    {
     "data": {
      "image/png": "[encoded data removed]",
      "text/plain": [
       "<Figure size 864x864 with 1 Axes>"
      ]
     },
     "metadata": {},
     "output_type": "display_data"
    }
   ],
   "source": [
    "# plot_actor_analysis(data_1)\n",
    "# plot_actor_analysis(data_2)\n",
    "plot_actor_analysis(data_3)"
   ]
  },
  {
   "cell_type": "markdown",
   "metadata": {},
   "source": [
    "# iGraph Analysis"
   ]
  },
  {
   "cell_type": "code",
   "execution_count": 7,
   "metadata": {},
   "outputs": [],
   "source": [
    "# Networks\n",
    "import igraph as ig\n",
    "import louvain\n",
    "import numpy as np"
   ]
  },
  {
   "cell_type": "code",
   "execution_count": 4,
   "metadata": {},
   "outputs": [],
   "source": [
    "G1 = ig.Graph.Read_GML(data_path_1)"
   ]
  },
  {
   "cell_type": "code",
   "execution_count": 5,
   "metadata": {},
   "outputs": [
    {
     "data": {
      "text/plain": [
       "0.2880394700033061"
      ]
     },
     "execution_count": 5,
     "metadata": {},
     "output_type": "execute_result"
    }
   ],
   "source": [
    "G1.reciprocity()"
   ]
  },
  {
   "cell_type": "code",
   "execution_count": 9,
   "metadata": {},
   "outputs": [
    {
     "data": {
      "text/plain": [
       "-0.0007341863237415486"
      ]
     },
     "execution_count": 9,
     "metadata": {},
     "output_type": "execute_result"
    }
   ],
   "source": [
    "G1.assortativity_nominal(ig.VertexClustering.FromAttribute(G1, 'followers').membership)"
   ]
  },
  {
   "cell_type": "code",
   "execution_count": 21,
   "metadata": {},
   "outputs": [
    {
     "ename": "KeyError",
     "evalue": "'Attribute does not exist'",
     "output_type": "error",
     "traceback": [
      "\u001b[1;31m---------------------------------------------------------------------------\u001b[0m",
      "\u001b[1;31mKeyError\u001b[0m                                  Traceback (most recent call last)",
      "\u001b[1;32m<ipython-input-21-b764fa91facb>\u001b[0m in \u001b[0;36m<module>\u001b[1;34m\u001b[0m\n\u001b[0;32m      8\u001b[0m \u001b[0mentropy_node\u001b[0m \u001b[1;33m=\u001b[0m \u001b[1;33m[\u001b[0m\u001b[0mentropy\u001b[0m\u001b[1;33m(\u001b[0m\u001b[0mG1\u001b[0m\u001b[1;33m.\u001b[0m\u001b[0mvs\u001b[0m\u001b[1;33m[\u001b[0m\u001b[0mG1\u001b[0m\u001b[1;33m.\u001b[0m\u001b[0mneighbors\u001b[0m\u001b[1;33m(\u001b[0m\u001b[0mv\u001b[0m\u001b[1;33m)\u001b[0m\u001b[1;33m]\u001b[0m\u001b[1;33m[\u001b[0m\u001b[1;34m'followers'\u001b[0m\u001b[1;33m]\u001b[0m\u001b[1;33m)\u001b[0m \u001b[1;32mfor\u001b[0m \u001b[0mv\u001b[0m \u001b[1;32min\u001b[0m \u001b[0mG1\u001b[0m\u001b[1;33m.\u001b[0m\u001b[0mvs\u001b[0m\u001b[1;33m]\u001b[0m\u001b[1;33m;\u001b[0m\u001b[1;33m\u001b[0m\u001b[1;33m\u001b[0m\u001b[0m\n\u001b[0;32m      9\u001b[0m \u001b[1;33m\u001b[0m\u001b[0m\n\u001b[1;32m---> 10\u001b[1;33m \u001b[0mplt\u001b[0m\u001b[1;33m.\u001b[0m\u001b[0mplot\u001b[0m\u001b[1;33m(\u001b[0m\u001b[0mG1\u001b[0m\u001b[1;33m.\u001b[0m\u001b[0mvs\u001b[0m\u001b[1;33m[\u001b[0m\u001b[1;34m'clustering'\u001b[0m\u001b[1;33m]\u001b[0m\u001b[1;33m,\u001b[0m \u001b[0mentropy_node\u001b[0m\u001b[1;33m,\u001b[0m \u001b[1;34m'.'\u001b[0m\u001b[1;33m)\u001b[0m\u001b[1;33m\u001b[0m\u001b[1;33m\u001b[0m\u001b[0m\n\u001b[0m\u001b[0;32m     11\u001b[0m \u001b[0mplt\u001b[0m\u001b[1;33m.\u001b[0m\u001b[0mxlabel\u001b[0m\u001b[1;33m(\u001b[0m\u001b[1;34m'Clustering'\u001b[0m\u001b[1;33m)\u001b[0m\u001b[1;33m\u001b[0m\u001b[1;33m\u001b[0m\u001b[0m\n\u001b[0;32m     12\u001b[0m \u001b[0mplt\u001b[0m\u001b[1;33m.\u001b[0m\u001b[0mylabel\u001b[0m\u001b[1;33m(\u001b[0m\u001b[1;34m'Entropy'\u001b[0m\u001b[1;33m)\u001b[0m\u001b[1;33m\u001b[0m\u001b[1;33m\u001b[0m\u001b[0m\n",
      "\u001b[1;31mKeyError\u001b[0m: 'Attribute does not exist'"
     ]
    }
   ],
   "source": [
    "from collections import Counter\n",
    "\n",
    "def entropy(lst):\n",
    "    freq = Counter(lst);\n",
    "    prob = [float(f)/len(lst) for f in freq.values()]\n",
    "    return -sum(prob*np.log(prob))\n",
    "\n",
    "entropy_node = [entropy(G1.vs[G1.neighbors(v)]['followers']) for v in G1.vs];\n",
    "\n",
    "plt.plot(G1.vs['clustering'], entropy_node, '.')\n",
    "plt.xlabel('Clustering')\n",
    "plt.ylabel('Entropy')"
   ]
  }
 ],
 "metadata": {
  "kernelspec": {
   "display_name": "Python 3",
   "language": "python",
   "name": "python3"
  },
  "language_info": {
   "codemirror_mode": {
    "name": "ipython",
    "version": 3
   },
   "file_extension": ".py",
   "mimetype": "text/x-python",
   "name": "python",
   "nbconvert_exporter": "python",
   "pygments_lexer": "ipython3",
   "version": "3.6.8"
  }
 },
 "nbformat": 4,
 "nbformat_minor": 2
}
